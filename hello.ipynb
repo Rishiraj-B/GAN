{
  "nbformat": 4,
  "nbformat_minor": 0,
  "metadata": {
    "colab": {
      "provenance": [],
      "authorship_tag": "ABX9TyO/dV1kwo3JaCzrfM5/Wvtq"
    },
    "kernelspec": {
      "name": "python3",
      "display_name": "Python 3"
    },
    "language_info": {
      "name": "python"
    }
  },
  "cells": [
    {
      "cell_type": "code",
      "execution_count": null,
      "metadata": {
        "id": "WYl6iXlkMm3W"
      },
      "outputs": [],
      "source": [
        "print(hello)"
      ]
    }
  ]
}